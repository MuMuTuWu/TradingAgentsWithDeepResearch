{
 "cells": [
  {
   "cell_type": "markdown",
   "id": "356f7667",
   "metadata": {},
   "source": [
    "# get_index_market_data"
   ]
  },
  {
   "cell_type": "code",
   "execution_count": 1,
   "id": "64e2c62c",
   "metadata": {},
   "outputs": [
    {
     "name": "stdout",
     "output_type": "stream",
     "text": [
      "# Stock data for 000300.SH from 2025-08-12 to 2025-09-12\n",
      "# Total records: 24\n",
      "# Data retrieved on: 2025-09-12 16:25:39\n",
      "\n",
      "trade_date,open,high,low,close,vol\n",
      "2025-08-12,4123.58,4153.29,4121.22,4143.83,177287823.0\n",
      "2025-08-13,4150.5,4186.75,4147.2,4176.58,213934999.0\n",
      "2025-08-14,4179.96,4220.31,4165.94,4173.31,221103595.0\n",
      "2025-08-15,4162.42,4214.73,4157.5,4202.35,261327566.0\n",
      "2025-08-18,4218.25,4272.96,4203.42,4239.41,301479102.0\n",
      "2025-08-19,4241.77,4264.23,4215.21,4223.37,250818771.0\n",
      "2025-08-20,4208.4,4272.15,4190.56,4271.4,246481773.0\n",
      "2025-08-21,4284.37,4308.45,4273.65,4288.07,259030014.0\n",
      "2025-08-22,4287.36,4378.39,4287.36,4378.0,290434897.0\n",
      "2025-08-25,4416.29,4472.65,4404.78,4469.22,358090006.0\n",
      "2025-08-26,4453.35,4476.8,4435.53,4452.59,270621395.0\n",
      "2025-08-27,4458.84,4494.91,4386.13,4386.13,333133898.0\n",
      "2025-08-28,4378.04,4464.8,4364.17,4463.78,296834536.0\n",
      "2025-08-29,4455.8,4516.84,4452.36,4496.76,351938947.0\n",
      "2025-09-01,4516.88,4528.13,4487.53,4523.71,320366708.0\n",
      "2025-09-02,4521.98,4548.89,4454.42,4490.45,303932566.0\n",
      "2025-09-03,4501.34,4510.73,4427.52,4459.83,254320217.0\n",
      "2025-09-04,4461.25,4465.5,4327.51,4365.21,307934609.0\n",
      "2025-09-05,4365.61,4466.56,4350.3,4460.32,249625657.0\n",
      "2025-09-08,4467.17,4482.76,4438.07,4467.57,267638382.0\n",
      "2025-09-09,4448.74,4472.09,4412.69,4436.26,221375460.0\n",
      "2025-09-10,4438.3,4466.63,4414.59,4445.36,203597646.0\n",
      "2025-09-11,4438.84,4548.03,4427.92,4548.03,253264051.0\n",
      "2025-09-12,4544.59,4564.67,4517.79,4522.0,266442003.0\n",
      "\n"
     ]
    }
   ],
   "source": [
    "from tradingagents.datainterface.interface import get_index_market_data\n",
    "data = get_index_market_data('000300.SH', '2025-08-12', '2025-09-12')\n",
    "print(data)"
   ]
  },
  {
   "cell_type": "markdown",
   "id": "f43614fb",
   "metadata": {},
   "source": [
    "# get_index_stats_indicators_window"
   ]
  },
  {
   "cell_type": "code",
   "execution_count": 1,
   "id": "63c8ddd4",
   "metadata": {},
   "outputs": [
    {
     "name": "stdout",
     "output_type": "stream",
     "text": [
      "## boll_ub values from 2025-08-23 to 2025-09-12:\n",
      "\n",
      "2025-08-25: 4388.1941\n",
      "2025-08-26: 4433.9012\n",
      "2025-08-27: 4458.4262\n",
      "2025-08-28: 4493.4099\n",
      "2025-08-29: 4527.5825\n",
      "2025-09-01: 4561.7809\n",
      "2025-09-02: 4585.0875\n",
      "2025-09-03: 4599.1448\n",
      "2025-09-04: 4598.3472\n",
      "2025-09-05: 4603.5522\n",
      "2025-09-08: 4606.5984\n",
      "2025-09-09: 4603.2987\n",
      "2025-09-10: 4600.6707\n",
      "2025-09-11: 4607.5075\n",
      "2025-09-12: 4607.4477\n",
      "\n",
      "Bollinger Upper Band: Typically 2 standard deviations above the middle line. Usage: Signals potential overbought conditions and breakout zones. Tips: Confirm signals with other tools; prices may ride the band in strong trends.\n"
     ]
    }
   ],
   "source": [
    "from tradingagents.datainterface.tushare_utils import get_index_stats_indicators_window\n",
    "# 示例1: 获取沪深300指数的RSI指标，回溯10天\n",
    "result = get_index_stats_indicators_window(\n",
    "    symbol=\"000300.SH\",      # 沪深300指数\n",
    "    indicator=\"boll_ub\",         # RSI相对强弱指数\n",
    "    curr_date=\"2025-09-12\",  # 当前交易日期\n",
    "    look_back_days=20,       # 回溯10天\n",
    "    online=True              # 在线获取数据\n",
    ")\n",
    "print(result)"
   ]
  },
  {
   "cell_type": "code",
   "execution_count": null,
   "id": "a5a71f7d",
   "metadata": {},
   "outputs": [],
   "source": [
    "\"\"\"You are a social media and company specific news researcher/analyst tasked with analyzing social media posts, recent company news, and public sentiment for a specific company over the past week. You will be given a company's name your objective is to write a comprehensive long report detailing your analysis, insights, and implications for traders and investors on this company's current state after looking at social media and what people are saying about that company, analyzing sentiment data of what people feel each day about the company, and looking at recent company news. Try to look at all sources possible from social media to sentiment to news. Do not simply state the trends are mixed, provide detailed and finegrained analysis and insights that may help traders make decisions. Make sure to append a Makrdown table at the end of the report to organize key points in the report, organized and easy to read.\"\"\"\n",
    "\n",
    "\"You are a helpful AI assistant, collaborating with other assistants.\"\n",
    "\" Use the provided tools to progress towards answering the question.\"\n",
    "\" If you are unable to fully answer, that's OK; another assistant with different tools\"\n",
    "\" will help where you left off. Execute what you can to make progress.\"\n",
    "\" If you or any other assistant has the FINAL TRANSACTION PROPOSAL: **BUY/HOLD/SELL** or deliverable,\"\n",
    "\" prefix your response with FINAL TRANSACTION PROPOSAL: **BUY/HOLD/SELL** so the team knows to stop.\"\n",
    "\" You have access to the following tools: {tool_names}.\\n{system_message}\"\n",
    "\"For your reference, the current date is {current_date}. The current company we want to analyze is {ticker}\","
   ]
  }
 ],
 "metadata": {
  "kernelspec": {
   "display_name": ".venv",
   "language": "python",
   "name": "python3"
  },
  "language_info": {
   "codemirror_mode": {
    "name": "ipython",
    "version": 3
   },
   "file_extension": ".py",
   "mimetype": "text/x-python",
   "name": "python",
   "nbconvert_exporter": "python",
   "pygments_lexer": "ipython3",
   "version": "3.10.18"
  }
 },
 "nbformat": 4,
 "nbformat_minor": 5
}
